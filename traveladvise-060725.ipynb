{
 "cells": [
  {
   "cell_type": "code",
   "execution_count": 1,
   "id": "8d05aef0-9b8b-438a-97d3-a223fa66e777",
   "metadata": {},
   "outputs": [
    {
     "name": "stdout",
     "output_type": "stream",
     "text": [
      "\n",
      "\u001b[1m[\u001b[0m\u001b[34;49mnotice\u001b[0m\u001b[1;39;49m]\u001b[0m\u001b[39;49m A new release of pip is available: \u001b[0m\u001b[31;49m24.0\u001b[0m\u001b[39;49m -> \u001b[0m\u001b[32;49m25.1.1\u001b[0m\n",
      "\u001b[1m[\u001b[0m\u001b[34;49mnotice\u001b[0m\u001b[1;39;49m]\u001b[0m\u001b[39;49m To update, run: \u001b[0m\u001b[32;49mpip install --upgrade pip\u001b[0m\n"
     ]
    }
   ],
   "source": [
    "!pip install langgraph langchain langchain-community langchain-openai python-dotenv -q"
   ]
  },
  {
   "cell_type": "code",
   "execution_count": 2,
   "id": "35eae072-f23f-418a-9ae2-12f978e21c0a",
   "metadata": {},
   "outputs": [],
   "source": [
    "from langgraph.prebuilt import ToolNode\n",
    "from langgraph.graph import StateGraph, MessagesState, START, END\n",
    "#from google.colab import userdata\n",
    "import requests\n",
    "from typing import List, Literal\n",
    "from langchain_openai import ChatOpenAI"
   ]
  },
  {
   "cell_type": "code",
   "execution_count": 3,
   "id": "42ea84db-334a-40f2-b964-00723f540a18",
   "metadata": {},
   "outputs": [
    {
     "name": "stdout",
     "output_type": "stream",
     "text": [
      "\n",
      "\u001b[1m[\u001b[0m\u001b[34;49mnotice\u001b[0m\u001b[1;39;49m]\u001b[0m\u001b[39;49m A new release of pip is available: \u001b[0m\u001b[31;49m24.0\u001b[0m\u001b[39;49m -> \u001b[0m\u001b[32;49m25.1.1\u001b[0m\n",
      "\u001b[1m[\u001b[0m\u001b[34;49mnotice\u001b[0m\u001b[1;39;49m]\u001b[0m\u001b[39;49m To update, run: \u001b[0m\u001b[32;49mpip install --upgrade pip\u001b[0m\n"
     ]
    }
   ],
   "source": [
    "# 3fd203f425a25a0bfd6:2d87b2b\n",
    "!pip install arize-phoenix-otel -q\n",
    "PHOENIX_CLIENT_HEADERS='api_key=3fd203f425a25a0bfd6:2d87b2b'\n",
    "PHOENIX_COLLECTOR_ENDPOINT='https://app.phoenix.arize.com'"
   ]
  },
  {
   "cell_type": "code",
   "execution_count": 4,
   "id": "726a2a14-97e1-495e-8c97-1048840e1940",
   "metadata": {},
   "outputs": [
    {
     "name": "stdout",
     "output_type": "stream",
     "text": [
      "🔭 OpenTelemetry Tracing Details 🔭\n",
      "|  Phoenix Project: my-travel-advisor-app\n",
      "|  Span Processor: SimpleSpanProcessor\n",
      "|  Collector Endpoint: https://app.phoenix.arize.com/v1/traces\n",
      "|  Transport: HTTP + protobuf\n",
      "|  Transport Headers: {'api_key': '****'}\n",
      "|  \n",
      "|  Using a default SpanProcessor. `add_span_processor` will overwrite this default.\n",
      "|  \n",
      "|  `register` has set this TracerProvider as the global OpenTelemetry default.\n",
      "|  To disable this behavior, call `register` with `set_global_tracer_provider=False`.\n",
      "\n"
     ]
    }
   ],
   "source": [
    "import os\n",
    "from phoenix.otel import register\n",
    "\n",
    "# Add Phoenix API Key for tracing\n",
    "PHOENIX_API_KEY = \"3fd203f425a25a0bfd6:2d87b2b\"\n",
    "os.environ[\"PHOENIX_CLIENT_HEADERS\"] = f\"api_key={PHOENIX_API_KEY}\"\n",
    "os.environ[\"PHOENIX_COLLECTOR_ENDPOINT\"] = \"https://app.phoenix.arize.com\"\n",
    "\n",
    "# configure the Phoenix tracer\n",
    "tracer_provider = register(\n",
    "  project_name=\"my-travel-advisor-app\", # Default is 'default'\n",
    ") "
   ]
  },
  {
   "cell_type": "code",
   "execution_count": 5,
   "id": "53b9fc63-9a62-4ce5-a51b-edbb9d428fbf",
   "metadata": {},
   "outputs": [
    {
     "name": "stdout",
     "output_type": "stream",
     "text": [
      "\n",
      "\u001b[1m[\u001b[0m\u001b[34;49mnotice\u001b[0m\u001b[1;39;49m]\u001b[0m\u001b[39;49m A new release of pip is available: \u001b[0m\u001b[31;49m24.0\u001b[0m\u001b[39;49m -> \u001b[0m\u001b[32;49m25.1.1\u001b[0m\n",
      "\u001b[1m[\u001b[0m\u001b[34;49mnotice\u001b[0m\u001b[1;39;49m]\u001b[0m\u001b[39;49m To update, run: \u001b[0m\u001b[32;49mpip install --upgrade pip\u001b[0m\n"
     ]
    }
   ],
   "source": [
    "!pip install openinference-instrumentation-langchain -q"
   ]
  },
  {
   "cell_type": "code",
   "execution_count": 6,
   "id": "9265bd81-d771-4581-ac2a-3492e12b7241",
   "metadata": {},
   "outputs": [],
   "source": [
    "from openinference.instrumentation.langchain import LangChainInstrumentor\n",
    "LangChainInstrumentor().instrument(tracer_provider=tracer_provider)"
   ]
  },
  {
   "cell_type": "code",
   "execution_count": 7,
   "id": "91d4c614-7a6c-48c6-a2e1-89b10586dfa9",
   "metadata": {},
   "outputs": [],
   "source": [
    "from langchain_core.tools import tool\n",
    "import requests\n",
    "\n",
    "# Define tools\n",
    "@tool\n",
    "def suggest_destination(preference: str) -> str:\n",
    "    \"\"\"\n",
    "    Suggest a travel destination based on the user's preference.\n",
    "    Supported preferences: 'beach', 'mountains', 'city'.\n",
    "    \"\"\"\n",
    "    destinations = {\n",
    "        \"beach\": [\"Maldives\", \"Hawaii\", \"Bali\"],\n",
    "        \"mountains\": [\"Swiss Alps\", \"Himalayas\", \"Rockies\"],\n",
    "        \"city\": [\"New York\", \"Paris\", \"Tokyo\"]\n",
    "    }\n",
    "    if preference.lower() in destinations:\n",
    "        return f\"Recommended destinations for {preference}: {', '.join(destinations[preference.lower()])}.\"\n",
    "    return \"Unknown Preference\"\n",
    "\n",
    "@tool\n",
    "def calculate_cost(destination: str) -> str:\n",
    "    \"\"\"\n",
    "    Calculate the estimated travel cost for a destination.\n",
    "    Returns cost in USD.\n",
    "    \"\"\"\n",
    "    costs = {\n",
    "        \"Maldives\": 2000,\n",
    "        \"Hawaii\": 2500,\n",
    "        \"Bali\": 1800,\n",
    "        \"Swiss Alps\": 3000,\n",
    "        \"Himalayas\": 1500,\n",
    "        \"Rockies\": 2200,\n",
    "        \"New York\": 1500,\n",
    "        \"Paris\": 2800,\n",
    "        \"Tokyo\": 3200\n",
    "    }\n",
    "    if destination in costs:\n",
    "        return f\"The estimated cost for traveling to {destination} is ${costs[destination]}.\"\n",
    "    return f\"Cost data not available for {destination}.\"\n",
    "\n",
    "@tool\n",
    "def check_weather(destination: str) -> str:\n",
    "    \"\"\"\n",
    "    Check the current weather for a destination using OpenWeatherMap API.\n",
    "    \"\"\"\n",
    "    api_key = \"0675471b02560f1584b3a672bc92938f\"  # Replace with your actual API key\n",
    "    base_url = \"http://api.openweathermap.org/data/2.5/weather\"\n",
    "    \n",
    "    params = {\n",
    "        \"q\": destination,\n",
    "        \"appid\": api_key,\n",
    "        \"units\": \"metric\"\n",
    "    }\n",
    "    \n",
    "    try:\n",
    "        response = requests.get(base_url, params=params)\n",
    "        response.raise_for_status()\n",
    "        weather_data = response.json()\n",
    "        \n",
    "        temperature = weather_data[\"main\"][\"temp\"]\n",
    "        description = weather_data[\"weather\"][0][\"description\"]\n",
    "        \n",
    "        return f\"The current weather in {destination} is {description} with a temperature of {temperature}°C.\"\n",
    "    except requests.RequestException:\n",
    "        return f\"Unable to retrieve weather information for {destination}.\"\n"
   ]
  },
  {
   "cell_type": "code",
   "execution_count": null,
   "id": "9d475603",
   "metadata": {},
   "outputs": [],
   "source": [
    "def get_openai_api_key():\n",
    "    \"\"\"Get OpenAI API key from environment variables.\"\"\"\n",
    "    api_key = os.getenv(\"OPENAI_API_KEY\")\n",
    "    if not api_key:\n",
    "        raise ValueError(\"OPENAI_API_KEY not found in environment variables\")\n",
    "    return api_key"
   ]
  },
  {
   "cell_type": "code",
   "execution_count": null,
   "id": "46a41055-3b90-459d-a2ec-ebdfdfe372b1",
   "metadata": {},
   "outputs": [],
   "source": [
    "# Add tools to a ToolNode\n",
    "from langgraph.prebuilt import ToolNode\n",
    "from langgraph.graph import StateGraph, MessagesState, START, END\n",
    "\n",
    "tools = [suggest_destination, calculate_cost, check_weather]\n",
    "tool_node = ToolNode(tools)\n",
    "\n",
    "# Define functions for LLM and tools\n",
    "from langchain_openai import ChatOpenAI\n",
    "\n",
    "def call_model(state: MessagesState):\n",
    "    messages = state[\"messages\"]\n",
    "    llm = ChatOpenAI(model=\"gpt-4o-mini\", api_key=get_openai_api_key(), temperature=0)\n",
    "    llm_with_tools = llm.bind_tools(tools)\n",
    "    response = llm_with_tools.invoke(messages)\n",
    "    return {\"messages\": [response]}\n",
    "\n",
    "def call_tools(state: MessagesState) -> Literal[\"tools\", END]:\n",
    "    messages = state[\"messages\"]\n",
    "    last_message = messages[-1]\n",
    "    if last_message.tool_calls:\n",
    "        return \"tools\"\n",
    "    return END\n",
    "\n",
    "# Workflow setup\n",
    "workflow = StateGraph(MessagesState)\n",
    "\n",
    "workflow.add_node(\"LLM\", call_model)\n",
    "workflow.add_edge(START, \"LLM\")\n",
    "workflow.add_node(\"tools\", tool_node)\n",
    "workflow.add_conditional_edges(\"LLM\", call_tools)\n",
    "workflow.add_edge(\"tools\", \"LLM\")\n",
    "\n",
    "agent = workflow.compile()"
   ]
  },
  {
   "cell_type": "code",
   "execution_count": 9,
   "id": "93f17bc0-ea65-4f4e-9b68-ebd27890add7",
   "metadata": {},
   "outputs": [
    {
     "data": {
      "image/png": "[encoded data removed]",
      "text/plain": [
       "<IPython.core.display.Image object>"
      ]
     },
     "metadata": {},
     "output_type": "display_data"
    }
   ],
   "source": [
    "# Generate and display Mermaid diagram\n",
    "from IPython.display import Image, display\n",
    "from langchain_core.runnables.graph import CurveStyle, NodeStyles\n",
    "\n",
    "node_styles = NodeStyles(\n",
    "    default=\"#fad7de\",  # This will be used for most nodes\n",
    "    first=\"#ffdfba\",    # Color for the start node\n",
    "    last=\"#baffc9\"      # Color for the end node\n",
    ")\n",
    "\n",
    "mermaid_png = agent.get_graph().draw_mermaid_png(\n",
    "    curve_style=CurveStyle.LINEAR,\n",
    "    node_colors=node_styles,\n",
    "    wrap_label_n_words=9,\n",
    "    background_color=\"white\",\n",
    "    padding=10\n",
    ")\n",
    "\n",
    "display(Image(mermaid_png))"
   ]
  },
  {
   "cell_type": "code",
   "execution_count": 10,
   "id": "6b115b1c-da9b-4cc9-9482-966ca9ba6f72",
   "metadata": {},
   "outputs": [
    {
     "name": "stderr",
     "output_type": "stream",
     "text": [
      "Transient error Service Unavailable encountered while exporting span batch, retrying in 1s.\n",
      "Transient error Service Unavailable encountered while exporting span batch, retrying in 2s.\n",
      "Transient error Service Unavailable encountered while exporting span batch, retrying in 4s.\n",
      "Transient error Service Unavailable encountered while exporting span batch, retrying in 8s.\n",
      "Transient error Service Unavailable encountered while exporting span batch, retrying in 16s.\n"
     ]
    },
    {
     "name": "stdout",
     "output_type": "stream",
     "text": [
      "================================\u001b[1m Human Message \u001b[0m=================================\n",
      "\n",
      "My budget is 2000 and I love cities. Suggest me a travel plan with atleast 2 destinations and include current weather\n",
      "==================================\u001b[1m Ai Message \u001b[0m==================================\n",
      "Tool Calls:\n",
      "  suggest_destination (call_2XzLgZSZRq7BUUV30ab8iO2U)\n",
      " Call ID: call_2XzLgZSZRq7BUUV30ab8iO2U\n",
      "  Args:\n",
      "    preference: city\n",
      "=================================\u001b[1m Tool Message \u001b[0m=================================\n",
      "Name: suggest_destination\n",
      "\n",
      "Recommended destinations for city: New York, Paris, Tokyo.\n",
      "==================================\u001b[1m Ai Message \u001b[0m==================================\n",
      "Tool Calls:\n",
      "  calculate_cost (call_4GnZDVdP6Tom3G0XhUM3zud9)\n",
      " Call ID: call_4GnZDVdP6Tom3G0XhUM3zud9\n",
      "  Args:\n",
      "    destination: New York\n",
      "  calculate_cost (call_ZDIptSjuOsnrl1ORnBPRtTFm)\n",
      " Call ID: call_ZDIptSjuOsnrl1ORnBPRtTFm\n",
      "  Args:\n",
      "    destination: Paris\n",
      "  check_weather (call_nZLcLNWbpfcVJbNAFhJrtpn2)\n",
      " Call ID: call_nZLcLNWbpfcVJbNAFhJrtpn2\n",
      "  Args:\n",
      "    destination: New York\n",
      "  check_weather (call_CVPe2hIMtnLaGPtwbioWWtFi)\n",
      " Call ID: call_CVPe2hIMtnLaGPtwbioWWtFi\n",
      "  Args:\n",
      "    destination: Paris\n",
      "=================================\u001b[1m Tool Message \u001b[0m=================================\n",
      "Name: check_weather\n",
      "\n",
      "The current weather in Paris is overcast clouds with a temperature of 14.62°C.\n",
      "==================================\u001b[1m Ai Message \u001b[0m==================================\n",
      "\n",
      "Based on your preference for cities and a budget of $2000, here’s a travel plan with two destinations:\n",
      "\n",
      "### Destination 1: New York\n",
      "- **Estimated Travel Cost**: $1500\n",
      "- **Current Weather**: Clear sky with a temperature of 21.34°C.\n",
      "\n",
      "### Destination 2: Paris\n",
      "- **Estimated Travel Cost**: $2800 (exceeds budget)\n",
      "- **Current Weather**: Overcast clouds with a temperature of 14.62°C.\n",
      "\n",
      "### Travel Plan\n",
      "1. **Start in New York**: Enjoy the vibrant city life, iconic landmarks, and diverse culture. With a cost of $1500, this fits well within your budget.\n",
      "2. **Consider a Second Destination**: Since Paris exceeds your budget, you might want to consider another city that fits within your remaining budget after New York. Would you like me to suggest another city?\n"
     ]
    }
   ],
   "source": [
    "for chunk in agent.stream(\n",
    "    {\"messages\": [(\"user\", \"My budget is 2000 and I love cities. Suggest me a travel plan with atleast 2 destinations and include current weather\")]},\n",
    "    stream_mode=\"values\",\n",
    "):\n",
    "    chunk[\"messages\"][-1].pretty_print()"
   ]
  },
  {
   "cell_type": "code",
   "execution_count": null,
   "id": "140ad656-d659-4b0c-b323-e276d5614ff5",
   "metadata": {},
   "outputs": [],
   "source": []
  }
 ],
 "metadata": {
  "kernelspec": {
   "display_name": "venv",
   "language": "python",
   "name": "python3"
  },
  "language_info": {
   "codemirror_mode": {
    "name": "ipython",
    "version": 3
   },
   "file_extension": ".py",
   "mimetype": "text/x-python",
   "name": "python",
   "nbconvert_exporter": "python",
   "pygments_lexer": "ipython3",
   "version": "3.12.3"
  }
 },
 "nbformat": 4,
 "nbformat_minor": 5
}
